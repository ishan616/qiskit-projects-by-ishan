{
 "cells": [
  {
   "cell_type": "markdown",
   "metadata": {},
   "source": [
    "### Initialize environment\n",
    "\n",
    "This cell block checks the required modules (and installs them if missing) before importing them."
   ]
  },
  {
   "cell_type": "code",
   "execution_count": null,
   "metadata": {},
   "outputs": [],
   "source": [
    "%%capture \n",
    "# hide the output of this cell block\n",
    "\n",
    "%pip install qiskit # check & install qiskit if missing\n",
    "%pip install pylatexenc #check & install pylatexenc (required for images with complex symbols) if missing\n",
    "import matplotlib.pyplot as plt\n",
    "import numpy as np\n",
    "import math\n",
    "import pylatexenc\n",
    "\n",
    "# importing Qiskit\n",
    "from qiskit import *\n",
    "from qiskit.visualization import *\n",
    "from qiskit.tools.monitor import job_monitor\n",
    "from qiskit.providers.ibmq.job import job_monitor\n",
    "from qiskit.extensions import UnitaryGate\n",
    "from qiskit.circuit.library import QFT\n",
    "from qiskit.converters import circuit_to_gate\n",
    "\n",
    "# import basic plot tools\n",
    "from qiskit.visualization import plot_histogram\n",
    "%matplotlib inline \n",
    "\n",
    "#Set up simulators\n",
    "aer_sim = Aer.get_backend('aer_simulator')\n",
    "M_sim = Aer.get_backend(\"qasm_simulator\")\n",
    "S_sim = Aer.get_backend(\"statevector_simulator\")\n",
    "U_sim = Aer.get_backend(\"unitary_simulator\")"
   ]
  },
  {
   "cell_type": "markdown",
   "metadata": {},
   "source": [
    "### Build the circuit for Grover's Search Algorithm\n",
    "\n",
    "This cell block runs defines the circuit for Grover's Search Algorithm."
   ]
  },
  {
   "cell_type": "code",
   "execution_count": null,
   "metadata": {},
   "outputs": [],
   "source": [
    "n = 4 # number of qubits with size of database, N = 2^n\n",
    "w_state = 0b0101 # winner state\n",
    "\n",
    "grover_circuit = QuantumCircuit(n)\n",
    "\n",
    "# define initialization in equal superposition\n",
    "def initialize_s(qc, nqubits):\n",
    "    \"\"\"Apply a H-gate to 'qubits' in qc\"\"\"\n",
    "    for q in range(nqubits):\n",
    "        qc.h(q)\n",
    "    return qc\n",
    "\n",
    "# define oracle Operator (U_w)\n",
    "def oracle(nqubits,winner):\n",
    "    #NXN identity matrix\n",
    "    w = np.identity(2**nqubits)\n",
    "    #Apply phase to winner state\n",
    "    w[int(winner)][int(winner)] = -1\n",
    "    #convert the matrix to gate\n",
    "    U_w = UnitaryGate(w, label = 'U$_\\omega$')\n",
    "    return U_w\n",
    "\n",
    "# define diffusion operator (U_s)\n",
    "def diffuser(nqubits):\n",
    "    qc = QuantumCircuit(nqubits)\n",
    "    for i in list(range(nqubits)):\n",
    "      qc.h(i)\n",
    "    #NXN identity matrix\n",
    "    s = np.identity(2**nqubits)\n",
    "    #Apply phase to winner states\n",
    "    for i in list(range(1,2**nqubits)):\n",
    "      s[i][i] = -1\n",
    "    #convert the matrix to gate\n",
    "    U = UnitaryGate(s)\n",
    "    qc.append(U,list(range(nqubits)))\n",
    "    for i in list(range(nqubits)):\n",
    "      qc.h(i)\n",
    "    U_s = circuit_to_gate(qc, label = 'U$_s$')\n",
    "    return U_s\n",
    "\n",
    "# define one Grover iteration\n",
    "def gr_iteration(nqubits):\n",
    "    qc = QuantumCircuit(nqubits)\n",
    "    qc.append(oracle(n,w_state),list(range(n)))\n",
    "    qc.append(diffuser(n), list(range(n)))\n",
    "    gr_iter = circuit_to_gate(qc,label='Grover')\n",
    "    return gr_iter\n",
    "\n",
    "#initialize in equal superposition\n",
    "grover_circuit = initialize_s(grover_circuit, n)\n",
    "\n",
    "# iterate SQRT(N) times\n",
    "for i in range(math.floor(2**(n/2))):\n",
    "    grover_circuit.append(gr_iteration(n),list(range(n)))\n",
    "\n",
    "\n",
    "grover_circuit.draw('mpl')\n"
   ]
  },
  {
   "cell_type": "markdown",
   "metadata": {},
   "source": [
    "### Simulate the circuit for Grover's Algorithm and get results\n",
    "\n"
   ]
  },
  {
   "cell_type": "code",
   "execution_count": null,
   "metadata": {},
   "outputs": [],
   "source": [
    "s_result = execute(grover_circuit, S_sim).result()\n",
    "statevec = s_result.get_statevector()\n",
    "array_to_latex(statevec, prefix=\"|\\\\psi\\\\rangle =\")\n",
    "statevec.draw('bloch')"
   ]
  },
  {
   "cell_type": "code",
   "execution_count": null,
   "metadata": {},
   "outputs": [],
   "source": [
    "grover_circuit.measure_all()"
   ]
  },
  {
   "cell_type": "code",
   "execution_count": null,
   "metadata": {},
   "outputs": [],
   "source": [
    "gr_sim_job = execute(grover_circuit, backend = aer_sim, shots = 1024)\n",
    "gr_sim_result = gr_sim_job.result()\n",
    "gr_sim_counts = gr_sim_result.get_counts()\n",
    "plot_histogram(gr_sim_counts)\n"
   ]
  },
  {
   "cell_type": "code",
   "execution_count": null,
   "metadata": {},
   "outputs": [],
   "source": [
    "print(\"The winner state is %s\" % max(gr_sim_counts, key=gr_sim_counts.get))"
   ]
  },
  {
   "cell_type": "markdown",
   "metadata": {},
   "source": [
    "### Run the Grover'sAlgorithm on IBM's hardware\n",
    "\n",
    "Check IBM's hardware queues before running the three cell blocks below. Change the device to one that has the shortest queue after checking on https://quantum-computing.ibm.com/services/resources?tab=systems&limit=30.\n",
    "\n",
    "You will also need to get your API token from IBM and add it in the cell block below."
   ]
  },
  {
   "cell_type": "code",
   "execution_count": null,
   "metadata": {},
   "outputs": [],
   "source": [
    "#Set up IBM's quantum hardware\n",
    "api = \"\"\n",
    "IBMQ.save_account(api)\n",
    "provider = IBMQ.load_account()\n",
    "provider = IBMQ.get_provider(\"ibm-q\")\n",
    "device = provider.get_backend('ibmq_manila')"
   ]
  },
  {
   "cell_type": "code",
   "execution_count": null,
   "metadata": {},
   "outputs": [],
   "source": [
    "transpiled_grover_circuit = transpile(grover_circuit, optimization_level=3)\n",
    "gr_job = execute(transpiled_grover_circuit, backend = device, shots = 1024)\n",
    "job_monitor(gr_job, interval=2)"
   ]
  },
  {
   "cell_type": "code",
   "execution_count": null,
   "metadata": {},
   "outputs": [],
   "source": [
    "gr_job_results = gr_job.result()\n",
    "gr_job_counts = results.get_counts(gr_job_results)\n",
    "plot_histogram(gr_job_counts)"
   ]
  },
  {
   "cell_type": "markdown",
   "metadata": {},
   "source": [
    "### Quantum Fourier Transform & Inverse QFT\n",
    "\n",
    "QFT is an in-built class in qiskit. However, for the Phase Estimation part, we need the inverse QFT gate.\n",
    "\n",
    "We define this gate in the next cell block."
   ]
  },
  {
   "cell_type": "code",
   "execution_count": null,
   "metadata": {},
   "outputs": [],
   "source": [
    "def inv_qft(nqubits):\n",
    "    qft_dagger = QFT(nqubits).to_gate().inverse()\n",
    "    qft_dagger.label = 'QFT†'\n",
    "    return qft_dagger\n"
   ]
  },
  {
   "cell_type": "markdown",
   "metadata": {},
   "source": [
    "### Build the Circuit for Quantum Counting Alorithm"
   ]
  },
  {
   "cell_type": "code",
   "execution_count": null,
   "metadata": {},
   "outputs": [],
   "source": [
    "qcn = 2\n",
    "qct = 3\n",
    "w_states = [0b01,0b10,0b11]\n",
    "\n",
    "qc = QuantumCircuit(qct+qcn,qct)\n",
    "\n",
    "def qc_oracle(nqubits,winner):\n",
    "    #NXN identity matrix\n",
    "    w = np.identity(2**nqubits)\n",
    "    #Apply phase to winner states\n",
    "    for state in w_states:\n",
    "        w[int(state)][int(state)] = -1\n",
    "    #convert the matrix to gate\n",
    "    U_w = UnitaryGate(w, label = 'U$_\\omega$')\n",
    "    return U_w\n",
    "\n",
    "def qc_diffuser(nqubits):\n",
    "    qc = QuantumCircuit(nqubits)\n",
    "    for i in list(range(nqubits)):\n",
    "      qc.h(i)\n",
    "    #NXN identity matrix\n",
    "    s = np.identity(2**nqubits)\n",
    "    s*=-1\n",
    "    s[0][0]=1\n",
    "    #convert the matrix to gateU = UnitaryGate(s)\n",
    "    U = UnitaryGate(s)\n",
    "    qc.append(U,list(range(qcn)))\n",
    "    for i in list(range(qcn)):\n",
    "        qc.h(i)\n",
    "    U_s = circuit_to_gate(qc, label = 'U$_s$')\n",
    "    return U_s\n",
    "\n",
    "# define one Grover iteration\n",
    "def qc_gr_iteration(nqubits):\n",
    "    qc = QuantumCircuit(nqubits)\n",
    "    qc.append(qc_oracle(qcn,w_states),list(range(qcn)))\n",
    "    qc.append(diffuser(qcn), list(range(qcn)))\n",
    "    qc_gr_iter = circuit_to_gate(qc,label='Grover')\n",
    "    return qc_gr_iter\n",
    "\n",
    "#define controlled grover iteration\n",
    "cgr_iter = qc_gr_iteration(qcn).control()\n",
    "\n",
    "\n",
    "#Initialize all qubits to |+>\n",
    "for i in range(qct+qcn):\n",
    "    qc.h(i)\n",
    "\n",
    "# Begin controlled Grover iterations\n",
    "iterations = 1\n",
    "for qubit in range(qct):\n",
    "    for i in range(iterations):\n",
    "        qc.append(cgr_iter, [qubit] + [*range(qct, qcn+qct)])\n",
    "    iterations *= 2\n",
    "\n",
    "#Phase estimation\n",
    "qc.append(inv_qft(qct), list(range(qct)))\n",
    "\n",
    "qc.measure(range(qct), range(qct))"
   ]
  },
  {
   "cell_type": "code",
   "execution_count": null,
   "metadata": {},
   "outputs": [],
   "source": [
    "#only run this cell if qcn+qct<5 in previous cell\n",
    "qc.draw('mpl')"
   ]
  },
  {
   "cell_type": "markdown",
   "metadata": {},
   "source": [
    "### Simulate the circuit for Quantum Counting Algorithm and get results"
   ]
  },
  {
   "cell_type": "code",
   "execution_count": null,
   "metadata": {},
   "outputs": [],
   "source": [
    "qc_sim_job = execute(qc, backend = aer_sim, shots = 1024)\n",
    "qc_sim_result = qc_sim_job.result()\n",
    "qc_sim_counts = qc_sim_result.get_counts()\n",
    "plot_histogram(qc_sim_counts)"
   ]
  },
  {
   "cell_type": "markdown",
   "metadata": {},
   "source": [
    "### Run the Quantum Counting Algorithms on IBM's hardware\n",
    "\n",
    "Check IBM's hardware queues before running the three cell blocks below. Change the device to one that has the shortest queue after checking on https://quantum-computing.ibm.com/services/resources?tab=systems&limit=30.\n",
    "\n",
    "You will also need to get your API token from IBM and add it in the cell block below.\n",
    "\n",
    "Make sure the number of qubits in your circuit is less than or equal to the qubits on the hardware."
   ]
  },
  {
   "cell_type": "code",
   "execution_count": null,
   "metadata": {},
   "outputs": [],
   "source": [
    "transpiled_qc = transpile(qc, optimization_level=3)\n",
    "qc_job = execute(qc, backend = device, shots = 1024)\n",
    "job_monitor(qc_job, interval=2)"
   ]
  },
  {
   "cell_type": "code",
   "execution_count": null,
   "metadata": {},
   "outputs": [],
   "source": [
    "qc_job_results = qc_job.result()\n",
    "qc_job_counts = qc_job_results.get_counts()\n",
    "plot_histogram(qc_job_counts)"
   ]
  },
  {
   "cell_type": "markdown",
   "metadata": {},
   "source": [
    "### Decoding the results"
   ]
  },
  {
   "cell_type": "markdown",
   "metadata": {},
   "source": [
    "Simulation Result Analysis"
   ]
  },
  {
   "cell_type": "code",
   "execution_count": null,
   "metadata": {},
   "outputs": [],
   "source": [
    "measured_str = max(qc_sim_counts, key=qc_sim_counts.get)\n",
    "measured_int = int(measured_str,2)\n",
    "print(\"Measured Value = %i\" % measured_int)\n",
    "theta = (measured_int/(2**qct))*math.pi*2\n",
    "print(\"Theta = %.5f\" % theta)\n",
    "N = 2**qcn\n",
    "M = N * (math.sin(theta/2)**2)\n",
    "print(\"No. of Winner States = %.1f\" % M)"
   ]
  },
  {
   "cell_type": "markdown",
   "metadata": {},
   "source": [
    "Hardware Result Analysis"
   ]
  },
  {
   "cell_type": "code",
   "execution_count": null,
   "metadata": {},
   "outputs": [],
   "source": [
    "measured_str = max(qc_job_counts, key=qc_job_counts.get)\n",
    "measured_int = int(measured_str,2)\n",
    "print(\"Measured Value = %i\" % measured_int)\n",
    "theta = (measured_int/(2**qct))*math.pi*2\n",
    "print(\"Theta = %.5f\" % theta)\n",
    "N = 2**qcn\n",
    "M = N * (math.sin(theta/2)**2)\n",
    "print(\"No. of Winner States = %.1f\" % M)"
   ]
  }
 ],
 "metadata": {
  "kernelspec": {
   "display_name": "Python 3.11.0 64-bit",
   "language": "python",
   "name": "python3"
  },
  "language_info": {
   "codemirror_mode": {
    "name": "ipython",
    "version": 3
   },
   "file_extension": ".py",
   "mimetype": "text/x-python",
   "name": "python",
   "nbconvert_exporter": "python",
   "pygments_lexer": "ipython3",
   "version": "3.11.0"
  },
  "orig_nbformat": 4,
  "vscode": {
   "interpreter": {
    "hash": "aee8b7b246df8f9039afb4144a1f6fd8d2ca17a180786b69acc140d282b71a49"
   }
  }
 },
 "nbformat": 4,
 "nbformat_minor": 2
}
